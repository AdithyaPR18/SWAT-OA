{
 "cells": [
  {
   "cell_type": "code",
   "execution_count": 6,
   "id": "3d309c1e-57be-4932-a4c3-69a40c0dbd59",
   "metadata": {},
   "outputs": [],
   "source": [
    "import pandas as pd\n",
    "import nltk\n",
    "from nltk.stem import WordNetLemmatizer\n",
    "from nltk.corpus import stopwords\n",
    "import re\n",
    "from sklearn.model_selection import train_test_split\n",
    "from sklearn.feature_extraction.text import TfidfVectorizer\n",
    "from sklearn.pipeline import Pipeline\n",
    "from sklearn.metrics import classification_report, accuracy_score, confusion_matrix\n",
    "from sklearn.linear_model import LinearRegression, LogisticRegression\n",
    "from sklearn.preprocessing import LabelEncoder\n",
    "from imblearn.over_sampling import SMOTE\n",
    "from matplotlib import pyplot as plt\n",
    "import seaborn as sns\n",
    "from sklearn.utils.class_weight import compute_class_weight\n",
    "import numpy as np"
   ]
  },
  {
   "cell_type": "code",
   "execution_count": 7,
   "id": "d7374aee-4c05-4faa-8c0a-84c138d4e6cf",
   "metadata": {},
   "outputs": [
    {
     "name": "stderr",
     "output_type": "stream",
     "text": [
      "[nltk_data] Downloading package punkt to /Users/adi/nltk_data...\n",
      "[nltk_data]   Package punkt is already up-to-date!\n",
      "[nltk_data] Downloading package wordnet to /Users/adi/nltk_data...\n",
      "[nltk_data]   Package wordnet is already up-to-date!\n",
      "[nltk_data] Downloading package punkt_tab to /Users/adi/nltk_data...\n",
      "[nltk_data]   Package punkt_tab is already up-to-date!\n",
      "[nltk_data] Downloading package stopwords to /Users/adi/nltk_data...\n",
      "[nltk_data]   Package stopwords is already up-to-date!\n"
     ]
    },
    {
     "data": {
      "text/plain": [
       "True"
      ]
     },
     "execution_count": 7,
     "metadata": {},
     "output_type": "execute_result"
    }
   ],
   "source": [
    "nltk.download('punkt')\n",
    "nltk.download('wordnet')\n",
    "nltk.download(\"punkt_tab\")\n",
    "nltk.download(\"stopwords\")"
   ]
  },
  {
   "cell_type": "code",
   "execution_count": 8,
   "id": "2ec698d6-d97a-4c20-9b8a-0cf5f0b8f2c9",
   "metadata": {},
   "outputs": [],
   "source": [
    "df = pd.read_csv(\"swat-onboarding-main copy/src/data.csv\", encoding = \"ISO-8859-1\", header = None)\n",
    "df_unseen = pd.read_csv(\"swat-onboarding-main copy/src/stock_news.csv\", header = None)"
   ]
  },
  {
   "cell_type": "code",
   "execution_count": 9,
   "id": "b1193801-04f8-435f-8fa4-f99e25ab00f0",
   "metadata": {},
   "outputs": [],
   "source": [
    "df.columns = [\"Sentiment\", \"Text\"]\n",
    "#df_unseen.columns = [\"index\", \"Text\", \"Date\", \"Stock\"]\n",
    "df_unseen.columns = [\"index\", \"Text\", \"Sentiment\"]\n",
    "df_unseen.drop(\"index\", axis = 1, inplace = True)\n",
    "#df_unseen.drop(\"Date\", axis = 1, inplace = True)\n",
    "#df_unseen.drop(\"Stock\", axis = 1, inplace = True)\n",
    "df_unseen.drop(0, axis = 0, inplace = True)\n",
    "df.dropna(inplace=True)\n",
    "df_unseen.dropna(inplace=True)\n",
    "df.drop_duplicates(inplace=True)\n",
    "df_unseen.drop_duplicates(inplace=True)"
   ]
  },
  {
   "cell_type": "code",
   "execution_count": 10,
   "id": "45c67a32-0052-4e92-80e4-feff04eb3db7",
   "metadata": {},
   "outputs": [],
   "source": [
    "#Preprocessing 1\n",
    "stop_words = stopwords.words('english')\n",
    "lemmatizer = WordNetLemmatizer()\n",
    "df[\"Text\"] = df[\"Text\"].str.lower()\n",
    "df[\"Sentiment\"] = df[\"Sentiment\"].str.lower()\n",
    "df[\"Text\"] = df[\"Text\"].apply(lambda x: re.sub(r\"[^\\w\\s]\", \"\", x))\n",
    "df[\"Text\"] = df[\"Text\"].apply(lambda x: nltk.word_tokenize(x))\n",
    "df['Text'] = df['Text'].apply(lambda x: [word for word in x if word not in stop_words])\n",
    "df[\"Text\"] = df[\"Text\"].apply(lambda x: [lemmatizer.lemmatize(word) for word in x])\n",
    "df[\"Text\"] = df[\"Text\"].apply(lambda x: \" \".join(x))"
   ]
  },
  {
   "cell_type": "code",
   "execution_count": 11,
   "id": "3302cbd8-ea4c-4149-bb70-93cc2a14571a",
   "metadata": {},
   "outputs": [],
   "source": [
    "#Preprocessing 2\n",
    "df_unseen[\"Text\"] = df_unseen[\"Text\"].str.lower()\n",
    "df_unseen[\"Sentiment\"] = df_unseen[\"Sentiment\"].str.lower()\n",
    "df_unseen[\"Text\"] = df_unseen[\"Text\"].apply(lambda x: re.sub(r\"[^\\w\\s]\", \"\", x))\n",
    "df_unseen[\"Text\"] = df_unseen[\"Text\"].apply(lambda x: nltk.word_tokenize(x))\n",
    "df_unseen['Text'] = df_unseen['Text'].apply(lambda x: [word for word in x if word not in stop_words])\n",
    "df_unseen[\"Text\"] = df_unseen[\"Text\"].apply(lambda x: [lemmatizer.lemmatize(word) for word in x])\n",
    "df_unseen[\"Text\"] = df_unseen[\"Text\"].apply(lambda x: \" \".join(x))"
   ]
  },
  {
   "cell_type": "code",
   "execution_count": 12,
   "id": "59b52538-5b7e-47d6-95b8-003740c667be",
   "metadata": {},
   "outputs": [],
   "source": [
    "label_encoder = LabelEncoder()\n",
    "df[\"Sentiment\"] = label_encoder.fit_transform(df[\"Sentiment\"])\n",
    "df_unseen[\"Sentiment\"] = label_encoder.transform(df_unseen[\"Sentiment\"])\n",
    "#0 is negative, 1 is neutral, 2 is positive"
   ]
  },
  {
   "cell_type": "code",
   "execution_count": 13,
   "id": "7533ca2b-ce73-46f9-a969-15a87b3b2ef6",
   "metadata": {},
   "outputs": [
    {
     "data": {
      "text/plain": [
       "'\\nstop_words = stopwords.words(\\'english\\')\\nlemmatizer = WordNetLemmatizer()\\ndf_unseen[\"Sentiment\"] = df_unseen[\"Sentiment\"].str.lower()\\ndef preprocess_text(text, stop_words, lemmatizer):\\n    text = text.lower()\\n    text = re.sub(r\"[^\\\\w\\\\s]\", \"\", text)  # Remove punctuation\\n    tokens = nltk.word_tokenize(text)\\n    tokens = [lemmatizer.lemmatize(word) for word in tokens if word not in stop_words]\\n    return \" \".join(tokens)\\n\\ndf[\"Text\"] = df[\"Text\"].apply(lambda x: preprocess_text(x, stop_words, lemmatizer))\\ndf_unseen[\"Text\"] = df_unseen[\"Text\"].apply(lambda x: preprocess_text(x, stop_words, lemmatizer))\\n'"
      ]
     },
     "execution_count": 13,
     "metadata": {},
     "output_type": "execute_result"
    }
   ],
   "source": [
    "\"\"\"\n",
    "stop_words = stopwords.words('english')\n",
    "lemmatizer = WordNetLemmatizer()\n",
    "df_unseen[\"Sentiment\"] = df_unseen[\"Sentiment\"].str.lower()\n",
    "def preprocess_text(text, stop_words, lemmatizer):\n",
    "    text = text.lower()\n",
    "    text = re.sub(r\"[^\\w\\s]\", \"\", text)  # Remove punctuation\n",
    "    tokens = nltk.word_tokenize(text)\n",
    "    tokens = [lemmatizer.lemmatize(word) for word in tokens if word not in stop_words]\n",
    "    return \" \".join(tokens)\n",
    "\n",
    "df[\"Text\"] = df[\"Text\"].apply(lambda x: preprocess_text(x, stop_words, lemmatizer))\n",
    "df_unseen[\"Text\"] = df_unseen[\"Text\"].apply(lambda x: preprocess_text(x, stop_words, lemmatizer))\n",
    "\"\"\"\n"
   ]
  },
  {
   "cell_type": "code",
   "execution_count": 14,
   "id": "e5cee3c3-ad91-45fc-a3a2-ce71aa9c4cab",
   "metadata": {},
   "outputs": [],
   "source": [
    "#Train Test Split\n",
    "x = df[\"Text\"]\n",
    "y = df[\"Sentiment\"]\n",
    "x_train, x_test, y_train, y_test = train_test_split(x,y,test_size=0.1, random_state = 1)\n",
    "\n",
    "classes = np.array([0, 1, 2])  # Negative, Neutral, Positive\n",
    "class_weights = compute_class_weight('balanced', classes=classes, y=y_train)\n",
    "class_weight_dict = dict(zip(classes, class_weights))"
   ]
  },
  {
   "cell_type": "code",
   "execution_count": 15,
   "id": "d631eb6e-ff0e-4a2b-91d6-b5b31fc45ea7",
   "metadata": {},
   "outputs": [],
   "source": [
    "#Logistic Regression Classification Pipeline\n",
    "log_reg_clf = Pipeline([\n",
    "    ('vectorizer_tfidf', TfidfVectorizer()),\n",
    "    ('log_reg', LogisticRegression(class_weight=class_weight_dict, max_iter = 1000))\n",
    "])"
   ]
  },
  {
   "cell_type": "code",
   "execution_count": 16,
   "id": "18b3e8c5-c973-4e02-b0fc-85f532695bfc",
   "metadata": {},
   "outputs": [
    {
     "name": "stdout",
     "output_type": "stream",
     "text": [
      "              precision    recall  f1-score   support\n",
      "\n",
      "           0       0.64      0.68      0.66        57\n",
      "           1       0.85      0.84      0.85       288\n",
      "           2       0.71      0.70      0.71       139\n",
      "\n",
      "    accuracy                           0.78       484\n",
      "   macro avg       0.73      0.74      0.74       484\n",
      "weighted avg       0.78      0.78      0.78       484\n",
      "\n"
     ]
    }
   ],
   "source": [
    "#Logistic Regression Training\n",
    "log_reg_clf.fit(x_train, y_train)\n",
    "\n",
    "x_pred_log_reg = log_reg_clf.predict(x_test)\n",
    "print(classification_report(y_test, x_pred_log_reg))\n",
    "\n",
    "unseen_x = df_unseen[\"Text\"]\n",
    "unseen_y = df_unseen[\"Sentiment\"]"
   ]
  },
  {
   "cell_type": "code",
   "execution_count": 17,
   "id": "68a0b621-2279-4172-bf8b-34fd6307a806",
   "metadata": {},
   "outputs": [
    {
     "name": "stdout",
     "output_type": "stream",
     "text": [
      "0.42323076923076924\n"
     ]
    }
   ],
   "source": [
    "predictions = log_reg_clf.predict(unseen_x)\n",
    "#print(predictions)\n",
    "#print(df_unseen[\"Sentiment\"].head(), df_unseen[\"Sentiment\"].tail())\n",
    "\n",
    "print(accuracy_score(list(df_unseen[\"Sentiment\"]), predictions))"
   ]
  },
  {
   "cell_type": "code",
   "execution_count": 18,
   "id": "65a37265-333c-4e79-a357-e5fb0fc1b4e8",
   "metadata": {},
   "outputs": [
    {
     "data": {
      "text/plain": [
       "'\\ncm = confusion_matrix(x_test, x_pred_log_reg)\\nsns.heatmap(cm, annot=True, fmt=\"d\", cmap=\"Blues\")\\nplt.xlabel(\"Predicted\")\\nplt.ylabel(\"Actual\")\\nplt.title(\"Confusion Matrix\")\\nplt.show()\\n'"
      ]
     },
     "execution_count": 18,
     "metadata": {},
     "output_type": "execute_result"
    }
   ],
   "source": [
    "\"\"\"\n",
    "cm = confusion_matrix(x_test, x_pred_log_reg)\n",
    "sns.heatmap(cm, annot=True, fmt=\"d\", cmap=\"Blues\")\n",
    "plt.xlabel(\"Predicted\")\n",
    "plt.ylabel(\"Actual\")\n",
    "plt.title(\"Confusion Matrix\")\n",
    "plt.show()\n",
    "\"\"\""
   ]
  },
  {
   "cell_type": "code",
   "execution_count": 19,
   "id": "b949abc3-5087-4eac-ab24-4dc697e61576",
   "metadata": {},
   "outputs": [
    {
     "data": {
      "image/png": "[encoded data removed]",
      "text/plain": [
       "<Figure size 640x480 with 1 Axes>"
      ]
     },
     "metadata": {},
     "output_type": "display_data"
    }
   ],
   "source": [
    "sentiment_counts = df[\"Sentiment\"].value_counts()\n",
    "sns.barplot(x=sentiment_counts.index, y=sentiment_counts.values)\n",
    "plt.xlabel('Sentiment')\n",
    "plt.ylabel('Count')\n",
    "plt.title('Distribution of Sentiment Labels')\n",
    "plt.xticks(ticks=[0, 1, 2], labels=['Negative', 'Neutral', 'Positive'])\n",
    "plt.show()"
   ]
  },
  {
   "cell_type": "raw",
   "id": "f0fa4be5-d2e4-4b67-b8c1-57efbe1f7346",
   "metadata": {},
   "source": [
    "Findings:\n",
    "1) The sentiment scores tend to be much more neutral than negative and positive. A major reason for this could be the market's tendency to self correct as known from the efficient market hypothesis (EMH). EMH states that the market always reflects all information available, so investors can not make profit unless they take upon risk or luck. The sentiment distribution shows this as much of the sentiment is netural, showing that in the long run, if investors invest safely there won't be much change in stock prices and they will stay neutral. Howver, this could also be due to the overwhelming majority of neutral sentiment headlines in the original dataset provided, which could have caused the model to be slightly biased towards predicting neutral sentiment. There's also almost three times more positive sentiment headlines than negative sentiment headlines, which could allude to the idea that more stock headlines tend to be bullish, because bullish headlines attract more attention. This could represent a bias in news outlets versus actual values in the stock market which shows a gap in the efficient market hypothesis. This gap of news outlets tending to show more positive sentiment than negative sentiment could be leveraged and exposed to make profit without having to obtain as much risk. If bullish sentiment in headlines is detected, it could allow for a simple short-term profit strategy, but it could also provide us with long term bearish data due to the market self correcting, if the positive sentiment is merely reactionary and not truly information based. \n",
    "\n",
    "Potential Applications:\n",
    "2) The data could be used to create a fundamental analysis based trading bot. Rather than most AI based trading strategies on the internet, which solely rely on technical factors, this data could be used to trade assets on fundamental factors which could offer many investors means of using a trading bot without incurring as much risk as using a techinical based trading bot. This could also allow us to modify already existing techinical analysis trading strategies by using sentiment analysis as a means of risk mitigation strategy. By using fundamental factors we can see if they provide the same sentiment as technical factors to get a proper understanding of the risk behind a trade, as fundamental factors reflect risk of a trade better than technical factors. By using this, we can stop ultra risky technical trades in a technical strategy, allowing us to reap the benefits of a technical trading strategy while also reaping the risk mitigation tactics of a fundamental strategy."
   ]
  },
  {
   "cell_type": "raw",
   "id": "d4eb268a-7bad-4915-a483-19bf1abd49a4",
   "metadata": {},
   "source": [
    "Methodology:\n",
    "1) I used supervised learning to classify stock market headlines as positive, negative, or neutral sentiment. I used the dataset provided to originally train the model. I preprocessed the text by cleaning, removing stop words, and lemmatizing the text into simplified and understandable words. Next, I vectorized the text using term frequency - inverse document frequency vectorization (or TF-IDF), which converted the words into datapoints the program could understand. After, I used scikit's logistic regression training library to train a model based on the vectorized text. After this, I fine tuned the algorithm by testing many techniques such as SMOTE (which artificially increases the amount of minority data to balance the dataset) and other regression models such as the Random Forest model, but ultimately ended up sticking to logistic regression. I continued to fine tune the model using confusion matrices and accuracy, precision, recall, and F1-scores. Next, I found a new data set and preprocessed and vectorized it to match the original dataset. Finally, I ended up using the model I trained on the first dataset to predict sentiment on the second datset."
   ]
  }
 ],
 "metadata": {
  "kernelspec": {
   "display_name": "Python 3 (ipykernel)",
   "language": "python",
   "name": "python3"
  },
  "language_info": {
   "codemirror_mode": {
    "name": "ipython",
    "version": 3
   },
   "file_extension": ".py",
   "mimetype": "text/x-python",
   "name": "python",
   "nbconvert_exporter": "python",
   "pygments_lexer": "ipython3",
   "version": "3.9.6"
  }
 },
 "nbformat": 4,
 "nbformat_minor": 5
}
